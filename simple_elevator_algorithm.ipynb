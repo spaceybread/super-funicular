{
 "cells": [
  {
   "cell_type": "markdown",
   "id": "0e428322-eef4-4b37-a060-3972760aa52f",
   "metadata": {},
   "source": [
    "### Optimising a Single Elevator\n",
    "\n",
    "The goal of the current exercise is to optimise the distance travelled by a single elevator in an online context. An elevator is defined as below (forgive me for becoming what I hate most, an object-oriented programmer): "
   ]
  },
  {
   "cell_type": "code",
   "execution_count": 1,
   "id": "82cfef5c-08d1-4d6d-9130-713d84065f10",
   "metadata": {},
   "outputs": [],
   "source": [
    "class Cart:\n",
    "    # floor: int\n",
    "    # direction: int; -1 -> down, 0 -> stationary, 1 -> up\n",
    "    # distance: int; lifetime floor changes\n",
    "    def __init__(self, floor = 0):\n",
    "        self.floor = floor\n",
    "        self.state = 0\n",
    "        self.distance = 0\n",
    "    \n",
    "    # run every system tick to update floor\n",
    "    def update_position(self):\n",
    "        self.floor += self.state\n",
    "        self.distance += abs(self.state)\n",
    "    \n",
    "    # change direction\n",
    "    def set_state(self, dir): self.state = dir\n",
    "    \n",
    "    # floor getter\n",
    "    def get_floor(self): return self.floor\n",
    "    \n",
    "    # state getter\n",
    "    def get_state(self): return self.state\n",
    "    \n",
    "    # distance getter\n",
    "    def get_distance(self): return self.distance"
   ]
  },
  {
   "cell_type": "markdown",
   "id": "f0914bbf-c18e-4b4b-984e-3eb8ea52aa3b",
   "metadata": {},
   "source": [
    "A request is defined as below: "
   ]
  },
  {
   "cell_type": "code",
   "execution_count": 2,
   "id": "3577c9b9-8296-40dd-8c83-44f557668ba3",
   "metadata": {},
   "outputs": [],
   "source": [
    "class Request:\n",
    "    # c_floor: int; current floor (original request)\n",
    "    # dir: int; -1 -> down, 1 -> up (original request)\n",
    "    # t_floor: int; target floor (delayed request)\n",
    "    def __init__(self, c_floor, dir, t_floor):\n",
    "        self.c_floor = c_floor\n",
    "        self.direction = dir\n",
    "        self.t_floor = t_floor\n",
    "        \n",
    "        if not self.verify(): raise Exception(\"what\")\n",
    "    \n",
    "    # checks if the request makes sense\n",
    "    # mostly for sanity once I do fuzz testing\n",
    "    def verify(self):\n",
    "        if self.direction == -1: return self.t_floor < self.c_floor\n",
    "        if self.direction == 1: return self.t_floor > self.c_floor\n",
    "        return False\n",
    "    \n",
    "    # get initial request\n",
    "    def get_initial_request(self):\n",
    "        return self.c_floor, self.direction\n",
    "    \n",
    "    # reveal target floor only if the elevator is on\n",
    "    # the current floor\n",
    "    def get_target_floor(self, elevator):\n",
    "        if elevator.get_floor() == self.c_floor: return self.t_floor\n",
    "        else: return None\n",
    "    \n",
    "    def __lt__(self, other):\n",
    "        return self.c_floor < other.c_floor\n",
    "    \n",
    "    def __eq__(self, other):\n",
    "        if not isinstance(other, Request): return False\n",
    "        return self.c_floor == other.c_floor\n",
    "    \n",
    "    def __str__(self):\n",
    "        return f\"Request floor: {self.c_floor}, Request direction: {self.direction}, Destination floor: {self.t_floor}\""
   ]
  },
  {
   "cell_type": "markdown",
   "id": "3bc83675-ab1c-4258-ac5c-fc29a643ba94",
   "metadata": {},
   "source": [
    "Now, to create a way to simulate the elevator! "
   ]
  },
  {
   "cell_type": "code",
   "execution_count": 3,
   "id": "4fa07d61-2891-46b8-b74b-915cc7ee6bf6",
   "metadata": {},
   "outputs": [],
   "source": [
    "from elevator import *\n",
    "import heapq as pq\n",
    "\n",
    "class Elevator_Simulator:\n",
    "    def __init__(self, name, LO, HI, events = [], debug = False):\n",
    "        self.LO, self.HI = LO, HI\n",
    "        self.elevator = Cart()\n",
    "        \n",
    "        self.name = name\n",
    "        self.debug = debug\n",
    "        self.targets = set()\n",
    "        self.next_targets = [] # prio queue for requests in opposite direction\n",
    "        self.missed_dir_requests = [] # prio queue for requests in the same direction but not at an appropriate floor\n",
    "        self.current_dir_requests = {} # hash map with request objects\n",
    "        \n",
    "        self.events = events\n",
    "        self.event_idx = 0\n",
    "    \n",
    "    def add_event(self, event = None): self.events.append(event)"
   ]
  },
  {
   "cell_type": "markdown",
   "id": "13d20ee9-f14b-4489-afda-f207a84b9b64",
   "metadata": {},
   "source": [
    "Done with some terrible code preamble—let's talk about the algorithm before I bore you with more Python. \n",
    "\n",
    "### What does an elevator need to do? \n",
    "\n",
    "Simply put, it needs to take passengers from floor x to floor y. A request is two-fold, one to call an elevator to the passenger's current floor (along with the direction they'd like to go in) and second, once the passenger is in the cart, they may reveal the floor that they want to go to. \n",
    "\n",
    "### Elevator not paternoster\n",
    "\n",
    "I don't want the elevator to move when it doesn't need to, nor do I want it to change directions when it still has requests to handle in that direction. Another constraint is that it should not contain passengers when the elevator switches directions. \n",
    "\n",
    "### Solving it \n",
    "\n",
    "When an elevator is going in a direction, say UP, then each request can be classified into one of the three types: \n",
    "- Current direction request:\n",
    "- Reverse direction request:\n",
    "- Missed current direction request: "
   ]
  }
 ],
 "metadata": {
  "kernelspec": {
   "display_name": "Python 3 (ipykernel)",
   "language": "python",
   "name": "python3"
  },
  "language_info": {
   "codemirror_mode": {
    "name": "ipython",
    "version": 3
   },
   "file_extension": ".py",
   "mimetype": "text/x-python",
   "name": "python",
   "nbconvert_exporter": "python",
   "pygments_lexer": "ipython3",
   "version": "3.13.0"
  }
 },
 "nbformat": 4,
 "nbformat_minor": 5
}

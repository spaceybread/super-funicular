{
 "cells": [
  {
   "cell_type": "markdown",
   "id": "cab9e42e-780e-405b-95fc-425ac5f59a3b",
   "metadata": {},
   "source": [
    "## Single Elevator Simulator\n",
    "\n",
    "Hi! This is a simple single elevator system which I intend to extend to create an elevator manager that handles k-elevators. I'm using this notebook to explain the algorithm so that I don't forget it in the future. Also, I'm really into using Jupyter notebooks at the moment so that's extra motivation I guess. "
   ]
  },
  {
   "cell_type": "markdown",
   "id": "ab2b6683-e0d5-46c3-b34e-55f92512aaad",
   "metadata": {},
   "source": [
    "### The Problem(s)\n",
    "\n",
    "In an online context, what is the optimal way for elevator to handle a stream of 'requests' latter such that it travels over the least distance which leads to the larger question I want to answer: what is the optimal way to assign k-elevators given a stream of requests? When I first discussed this problem, I was suggested to look into the k-server problem which goes as follows: there are k servers in a metric space and the goal of the algorithm is to move these servers to handle requests. This abstraction does make sense if one were to assume the elevator metric space to be $\\mathbb{R}^1$ however the problems are different in two key ways: \n",
    "- An elevator can satisfy multiple requests at once, for example: if the elevator is on a route from floor 2 to floor 10, it could also satisfy a request going from floor 4 to floor 6 during its original route\n",
    "- A request in the context of an elevator is two-fold: the intial request is made from a floor X with a direction, either UP or DOWN, once the elevator is on floor X, then the passenger reveals the destination floor Y. This is different for the k-server problem as a request is satisfied the moment a server arrives at the requested point\n",
    "\n",
    "Due to these additional constraints, the elevator problem is not directly solved by the k-server problem. The goal is to eventually get to the k-elevator problem but developing algorithms for it require some sort of simulator to test ideas on. The goal of this notebook at least is to optimise a single elevator for the online context"
   ]
  },
  {
   "cell_type": "markdown",
   "id": "0e428322-eef4-4b37-a060-3972760aa52f",
   "metadata": {},
   "source": [
    "### Understanding the Elevator\n",
    "\n"
   ]
  }
 ],
 "metadata": {
  "kernelspec": {
   "display_name": "Python 3 (ipykernel)",
   "language": "python",
   "name": "python3"
  },
  "language_info": {
   "codemirror_mode": {
    "name": "ipython",
    "version": 3
   },
   "file_extension": ".py",
   "mimetype": "text/x-python",
   "name": "python",
   "nbconvert_exporter": "python",
   "pygments_lexer": "ipython3",
   "version": "3.13.0"
  }
 },
 "nbformat": 4,
 "nbformat_minor": 5
}
